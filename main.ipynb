{
 "cells": [
  {
   "cell_type": "code",
   "execution_count": 4,
   "metadata": {},
   "outputs": [
    {
     "name": "stdout",
     "output_type": "stream",
     "text": [
      "Dastan and Ilnura,\n",
      "Two hearts entwined,\n",
      "Met one fateful night,\n",
      "And their love was kindled.\n",
      "\n",
      "They were inseparable,\n",
      "Two halves of a whole,\n",
      "And they vowed to be together,\n",
      "Forever and a day.\n",
      "\n",
      "But then, Ilnura's heart changed,\n",
      "And she left Dastan heartbroken.\n",
      "He could not understand,\n",
      "Why she would do this to him.\n",
      "\n",
      "He had loved her so deeply,\n",
      "And he had given her his all.\n",
      "But she had thrown it all away,\n",
      "And he was left to pick up the pieces.\n",
      "\n",
      "Dastan's heart was broken,\n",
      "But he would not let it destroy him.\n",
      "He would pick himself up,\n",
      "And he would find love again.\n",
      "\n",
      "He would not let Ilnura's betrayal,\n",
      "Define his life.\n",
      "He would move on,\n",
      "And he would find happiness.\n",
      "\n",
      "Dastan's heart was broken,\n",
      "But he would not let it break him.\n"
     ]
    }
   ],
   "source": [
    "import json\n",
    "from langchain.llms import GooglePalm\n",
    "\n",
    "with open(\"keys.json\") as f:\n",
    "    keys = json.load(f)\n",
    "\n",
    "api_key = keys[\"api_key\"]\n",
    "\n",
    "\n",
    "llm = GooglePalm(google_api_key=api_key, temperature=0.2)\n",
    "advice = llm(\"write love poem with name Dastan and Ilnura and write that ilnura broke dastan's heart\")\n",
    "print(advice)\n",
    "\n"
   ]
  },
  {
   "cell_type": "code",
   "execution_count": 5,
   "metadata": {},
   "outputs": [
    {
     "name": "stdout",
     "output_type": "stream",
     "text": [
      "\n",
      "CREATE TABLE discounts (\n",
      "\tdiscount_id INTEGER NOT NULL AUTO_INCREMENT, \n",
      "\tt_shirt_id INTEGER NOT NULL, \n",
      "\tpct_discount DECIMAL(5, 2), \n",
      "\tPRIMARY KEY (discount_id), \n",
      "\tCONSTRAINT discounts_ibfk_1 FOREIGN KEY(t_shirt_id) REFERENCES t_shirts (t_shirt_id), \n",
      "\tCONSTRAINT discounts_chk_1 CHECK ((`pct_discount` between 0 and 100))\n",
      ")DEFAULT CHARSET=utf8mb4 COLLATE utf8mb4_0900_ai_ci ENGINE=InnoDB\n",
      "\n",
      "/*\n",
      "3 rows from discounts table:\n",
      "discount_id\tt_shirt_id\tpct_discount\n",
      "1\t1\t10.00\n",
      "2\t2\t15.00\n",
      "3\t3\t20.00\n",
      "*/\n",
      "\n",
      "\n",
      "CREATE TABLE t_shirts (\n",
      "\tt_shirt_id INTEGER NOT NULL AUTO_INCREMENT, \n",
      "\tbrand ENUM('Van Huesen','Levi','Nike','Adidas') NOT NULL, \n",
      "\tcolor ENUM('Red','Blue','Black','White') NOT NULL, \n",
      "\tsize ENUM('XS','S','M','L','XL') NOT NULL, \n",
      "\tprice INTEGER, \n",
      "\tstock_quantity INTEGER NOT NULL, \n",
      "\tPRIMARY KEY (t_shirt_id), \n",
      "\tCONSTRAINT t_shirts_chk_1 CHECK ((`price` between 10 and 50))\n",
      ")DEFAULT CHARSET=utf8mb4 COLLATE utf8mb4_0900_ai_ci ENGINE=InnoDB\n",
      "\n",
      "/*\n",
      "3 rows from t_shirts table:\n",
      "t_shirt_id\tbrand\tcolor\tsize\tprice\tstock_quantity\n",
      "1\tVan Huesen\tBlack\tM\t48\t19\n",
      "2\tNike\tBlue\tS\t49\t74\n",
      "3\tNike\tRed\tS\t27\t31\n",
      "*/\n"
     ]
    }
   ],
   "source": [
    "from langchain.utilities import SQLDatabase\n",
    "\n",
    "# Extract the database credentials\n",
    "db_user = keys['db_user']\n",
    "db_password = keys['db_password']\n",
    "db_host = keys['db_host']\n",
    "db_name = keys['db_name']\n",
    "\n",
    "db = SQLDatabase.from_uri(f\"mysql+pymysql://{db_user}:{db_password}@{db_host}/{db_name}\", sample_rows_in_table_info=3)\n",
    "print(db.table_info)"
   ]
  },
  {
   "cell_type": "code",
   "execution_count": 6,
   "metadata": {},
   "outputs": [
    {
     "name": "stdout",
     "output_type": "stream",
     "text": [
      "\n",
      "\n",
      "\u001b[1m> Entering new SQLDatabaseChain chain...\u001b[0m\n",
      "How many white t-shirts do we have left for nike in extra small size and white color?\n",
      "SQLQuery:\u001b[32;1m\u001b[1;3mSELECT stock_quantity FROM t_shirts WHERE brand = 'Nike' AND color = 'White' AND size = 'XS'\u001b[0m\n",
      "SQLResult: \u001b[33;1m\u001b[1;3m[(40,)]\u001b[0m\n",
      "Answer:\u001b[32;1m\u001b[1;3m40\u001b[0m\n",
      "\u001b[1m> Finished chain.\u001b[0m\n"
     ]
    }
   ],
   "source": [
    "from langchain_experimental.sql import SQLDatabaseChain\n",
    "\n",
    "db_chain = SQLDatabaseChain.from_llm(llm, db, verbose=True)\n",
    "qns1 = db_chain(\"How many white t-shirts do we have left for nike in extra small size and white color?\")\n",
    "\n"
   ]
  },
  {
   "cell_type": "code",
   "execution_count": 7,
   "metadata": {},
   "outputs": [
    {
     "data": {
      "text/plain": [
       "{'query': 'How many white t-shirts do we have left for nike in extra small size and white color?',\n",
       " 'result': '40'}"
      ]
     },
     "execution_count": 7,
     "metadata": {},
     "output_type": "execute_result"
    }
   ],
   "source": [
    "qns1\n"
   ]
  }
 ],
 "metadata": {
  "kernelspec": {
   "display_name": "Python 3",
   "language": "python",
   "name": "python3"
  },
  "language_info": {
   "codemirror_mode": {
    "name": "ipython",
    "version": 3
   },
   "file_extension": ".py",
   "mimetype": "text/x-python",
   "name": "python",
   "nbconvert_exporter": "python",
   "pygments_lexer": "ipython3",
   "version": "3.9.12"
  }
 },
 "nbformat": 4,
 "nbformat_minor": 2
}
